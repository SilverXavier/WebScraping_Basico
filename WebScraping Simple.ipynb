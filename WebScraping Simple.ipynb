{
 "cells": [
  {
   "cell_type": "markdown",
   "id": "15a399f8",
   "metadata": {},
   "source": [
    "## Web Scraping con BeautifulSoup\n",
    "### Extraer imagenes del sitio www.lavasconia.com"
   ]
  },
  {
   "cell_type": "markdown",
   "id": "2e4c45a6",
   "metadata": {},
   "source": [
    "**Importamos las librerias necesarias**"
   ]
  },
  {
   "cell_type": "code",
   "execution_count": 1,
   "id": "cfd998a7",
   "metadata": {},
   "outputs": [],
   "source": [
    "import requests\n",
    "import os\n",
    "import time\n",
    "import bs4\n",
    "from bs4 import BeautifulSoup\n",
    "from urllib.parse import urljoin"
   ]
  },
  {
   "cell_type": "markdown",
   "id": "7f3f7786",
   "metadata": {},
   "source": [
    "**Definimos las URL para extraer informacion, una url raiz para acompletar los datos de imagen y 3 busquedas en la misma; de cuchara, tenedor y cuchillo**"
   ]
  },
  {
   "cell_type": "code",
   "execution_count": 2,
   "id": "7aa610fe",
   "metadata": {},
   "outputs": [],
   "source": [
    "url_raiz = 'https://www.lavasconia.com/'\n",
    "url_cuchara = 'https://www.lavasconia.com/cuchara'\n",
    "url_tenedor = 'https://www.lavasconia.com/tenedor'\n",
    "url_cuchillo = 'https://www.lavasconia.com/cuchillo'"
   ]
  },
  {
   "cell_type": "markdown",
   "id": "fb8eb982",
   "metadata": {},
   "source": [
    "**Ejecuta la busqueda del html completo en la primera url, si devuelve; 200 fue correcto**"
   ]
  },
  {
   "cell_type": "code",
   "execution_count": 3,
   "id": "0e1accff",
   "metadata": {},
   "outputs": [
    {
     "data": {
      "text/plain": [
       "200"
      ]
     },
     "execution_count": 3,
     "metadata": {},
     "output_type": "execute_result"
    }
   ],
   "source": [
    "bus_cuchara = requests.get(url_cuchara)\n",
    "sopa_cuchara = BeautifulSoup(bus_cuchara.text, 'html')\n",
    "bus_cuchara.status_code"
   ]
  },
  {
   "cell_type": "markdown",
   "id": "d2919a90",
   "metadata": {},
   "source": [
    "**Buscamos dentro de el div con la clase esfecifica los elementos de imagen y optenemos sus links**"
   ]
  },
  {
   "cell_type": "code",
   "execution_count": 4,
   "id": "7f00da35",
   "metadata": {},
   "outputs": [
    {
     "data": {
      "text/plain": [
       "['https://lavasconia.vtexassets.com/arquivos/ids/156866-350-350?v=637363871786630000&width=350&height=350&aspect=true',\n",
       " 'https://lavasconia.vtexassets.com/arquivos/ids/156866-350-350?v=637363871786630000&width=350&height=350&aspect=true',\n",
       " 'https://lavasconia.vtexassets.com/arquivos/ids/157305-350-350?v=637363872821200000&width=350&height=350&aspect=true',\n",
       " 'https://lavasconia.vtexassets.com/arquivos/ids/157305-350-350?v=637363872821200000&width=350&height=350&aspect=true',\n",
       " 'https://lavasconia.vtexassets.com/arquivos/ids/158819-350-350?v=637493598392170000&width=350&height=350&aspect=true',\n",
       " 'https://lavasconia.vtexassets.com/arquivos/ids/158819-350-350?v=637493598392170000&width=350&height=350&aspect=true',\n",
       " 'https://lavasconia.vtexassets.com/arquivos/ids/157087-350-350?v=637363872306000000&width=350&height=350&aspect=true',\n",
       " 'https://lavasconia.vtexassets.com/arquivos/ids/157087-350-350?v=637363872306000000&width=350&height=350&aspect=true',\n",
       " 'https://lavasconia.vtexassets.com/arquivos/ids/158437-350-350?v=637449493937870000&width=350&height=350&aspect=true',\n",
       " 'https://lavasconia.vtexassets.com/arquivos/ids/158437-350-350?v=637449493937870000&width=350&height=350&aspect=true',\n",
       " 'https://lavasconia.vtexassets.com/arquivos/ids/163332-350-350?v=637841939818130000&width=350&height=350&aspect=true',\n",
       " 'https://lavasconia.vtexassets.com/arquivos/ids/163332-350-350?v=637841939818130000&width=350&height=350&aspect=true',\n",
       " 'https://lavasconia.vtexassets.com/arquivos/ids/162483-350-350?v=637752153030230000&width=350&height=350&aspect=true',\n",
       " 'https://lavasconia.vtexassets.com/arquivos/ids/162483-350-350?v=637752153030230000&width=350&height=350&aspect=true',\n",
       " 'https://lavasconia.vtexassets.com/arquivos/ids/157529-350-350?v=637363873316230000&width=350&height=350&aspect=true',\n",
       " 'https://lavasconia.vtexassets.com/arquivos/ids/157529-350-350?v=637363873316230000&width=350&height=350&aspect=true']"
      ]
     },
     "execution_count": 4,
     "metadata": {},
     "output_type": "execute_result"
    }
   ],
   "source": [
    "lista_sopa_cuchara = sopa_cuchara.find_all('div', class_ ='vtex-product-summary-2-x-imageContainer')\n",
    "link_img_sopa_cuchara = [x.find('img').get('src') for x in lista_sopa_cuchara]\n",
    "link_img_sopa_cuchara = [urljoin(url_raiz, i) for i in link_img_sopa_cuchara]\n",
    "\n",
    "link_img_sopa_cuchara"
   ]
  },
  {
   "cell_type": "markdown",
   "id": "33f11222",
   "metadata": {},
   "source": [
    "**Creamos una carpeta y dentro descargamos todas las imagenes encontradas**"
   ]
  },
  {
   "cell_type": "code",
   "execution_count": 5,
   "id": "824afebf",
   "metadata": {},
   "outputs": [
    {
     "name": "stdout",
     "output_type": "stream",
     "text": [
      "Descargando... 1.jpg\n",
      "Descargando... 2.jpg\n",
      "Descargando... 3.jpg\n",
      "Descargando... 4.jpg\n",
      "Descargando... 5.jpg\n",
      "Descargando... 6.jpg\n",
      "Descargando... 7.jpg\n",
      "Descargando... 8.jpg\n",
      "Descargando... 9.jpg\n",
      "Descargando... 10.jpg\n",
      "Descargando... 11.jpg\n",
      "Descargando... 12.jpg\n",
      "Descargando... 13.jpg\n",
      "Descargando... 14.jpg\n",
      "Descargando... 15.jpg\n",
      "Descargando... 16.jpg\n",
      "# Descarga Terminada #\n"
     ]
    }
   ],
   "source": [
    "os.makedirs('cucharas')\n",
    "os.chdir('cucharas')\n",
    "\n",
    "id1=0\n",
    "for d1 in link_img_sopa_cuchara:\n",
    "    id1+=1\n",
    "    name = str(id1)+'.jpg'\n",
    "    imagen = requests.get(d1).content\n",
    "    with open(name, 'wb') as handler:\n",
    "        print(\"Descargando... \" + name)\n",
    "        handler.write(imagen)\n",
    "print(\"# Descarga Terminada #\")\n",
    "os.chdir('..')"
   ]
  },
  {
   "cell_type": "markdown",
   "id": "9fb273fd",
   "metadata": {},
   "source": [
    "**Ejecuta la busqueda del html completo en la segunda url, si devuelve; 200 fue correcto**"
   ]
  },
  {
   "cell_type": "code",
   "execution_count": 6,
   "id": "ae8916a3",
   "metadata": {},
   "outputs": [
    {
     "data": {
      "text/plain": [
       "200"
      ]
     },
     "execution_count": 6,
     "metadata": {},
     "output_type": "execute_result"
    }
   ],
   "source": [
    "bus_tenedor = requests.get(url_tenedor)\n",
    "sopa_tenedor = BeautifulSoup(bus_tenedor.text, 'html')\n",
    "bus_tenedor.status_code"
   ]
  },
  {
   "cell_type": "code",
   "execution_count": 7,
   "id": "a87a028f",
   "metadata": {},
   "outputs": [
    {
     "data": {
      "text/plain": [
       "['https://lavasconia.vtexassets.com/arquivos/ids/164244-350-350?v=637917096701970000&width=350&height=350&aspect=true',\n",
       " 'https://lavasconia.vtexassets.com/arquivos/ids/164244-350-350?v=637917096701970000&width=350&height=350&aspect=true',\n",
       " 'https://lavasconia.vtexassets.com/arquivos/ids/157527-350-350?v=637363873312330000&width=350&height=350&aspect=true',\n",
       " 'https://lavasconia.vtexassets.com/arquivos/ids/157527-350-350?v=637363873312330000&width=350&height=350&aspect=true',\n",
       " 'https://lavasconia.vtexassets.com/arquivos/ids/162283-350-350?v=637752151877070000&width=350&height=350&aspect=true',\n",
       " 'https://lavasconia.vtexassets.com/arquivos/ids/162283-350-350?v=637752151877070000&width=350&height=350&aspect=true',\n",
       " 'https://lavasconia.vtexassets.com/arquivos/ids/156868-350-350?v=637363871790870000&width=350&height=350&aspect=true',\n",
       " 'https://lavasconia.vtexassets.com/arquivos/ids/156868-350-350?v=637363871790870000&width=350&height=350&aspect=true',\n",
       " 'https://lavasconia.vtexassets.com/arquivos/ids/164875-350-350?v=637992873106700000&width=350&height=350&aspect=true',\n",
       " 'https://lavasconia.vtexassets.com/arquivos/ids/164875-350-350?v=637992873106700000&width=350&height=350&aspect=true',\n",
       " 'https://lavasconia.vtexassets.com/arquivos/ids/162837-350-350?v=637783135567670000&width=350&height=350&aspect=true',\n",
       " 'https://lavasconia.vtexassets.com/arquivos/ids/162837-350-350?v=637783135567670000&width=350&height=350&aspect=true']"
      ]
     },
     "execution_count": 7,
     "metadata": {},
     "output_type": "execute_result"
    }
   ],
   "source": [
    "lista_sopa_tenedor = sopa_tenedor.find_all('div', class_ ='vtex-product-summary-2-x-imageContainer')\n",
    "link_img_sopa_tenedor = [x.find('img').get('src') for x in lista_sopa_tenedor]\n",
    "link_img_sopa_tenedor = [urljoin(url_raiz, i) for i in link_img_sopa_tenedor]\n",
    "\n",
    "link_img_sopa_tenedor"
   ]
  },
  {
   "cell_type": "code",
   "execution_count": 8,
   "id": "c2723fed",
   "metadata": {},
   "outputs": [
    {
     "name": "stdout",
     "output_type": "stream",
     "text": [
      "Descargando... 1.jpg\n",
      "Descargando... 2.jpg\n",
      "Descargando... 3.jpg\n",
      "Descargando... 4.jpg\n",
      "Descargando... 5.jpg\n",
      "Descargando... 6.jpg\n",
      "Descargando... 7.jpg\n",
      "Descargando... 8.jpg\n",
      "Descargando... 9.jpg\n",
      "Descargando... 10.jpg\n",
      "Descargando... 11.jpg\n",
      "Descargando... 12.jpg\n",
      "# Descarga Terminada #\n"
     ]
    }
   ],
   "source": [
    "os.makedirs('tenedores')\n",
    "os.chdir('tenedores')\n",
    "\n",
    "id2=0\n",
    "for d2 in link_img_sopa_tenedor:\n",
    "    id2+=1\n",
    "    name = str(id2)+'.jpg'\n",
    "    imagen = requests.get(d2).content\n",
    "    with open(name, 'wb') as handler:\n",
    "        print(\"Descargando... \" + name)\n",
    "        handler.write(imagen)\n",
    "print(\"# Descarga Terminada #\")\n",
    "os.chdir('..')"
   ]
  },
  {
   "cell_type": "markdown",
   "id": "66ff9de1",
   "metadata": {},
   "source": [
    "**Ejecuta la busqueda del html completo en la ultima url, si devuelve; 200 fue correcto**"
   ]
  },
  {
   "cell_type": "code",
   "execution_count": 9,
   "id": "f1c4f638",
   "metadata": {},
   "outputs": [
    {
     "data": {
      "text/plain": [
       "200"
      ]
     },
     "execution_count": 9,
     "metadata": {},
     "output_type": "execute_result"
    }
   ],
   "source": [
    "bus_cuchillo = requests.get(url_cuchillo)\n",
    "sopa_cuchillo = BeautifulSoup(bus_cuchillo.text, 'html')\n",
    "bus_cuchillo.status_code"
   ]
  },
  {
   "cell_type": "code",
   "execution_count": 10,
   "id": "83c5df2f",
   "metadata": {},
   "outputs": [
    {
     "data": {
      "text/plain": [
       "['https://lavasconia.vtexassets.com/arquivos/ids/157914-350-350?v=637429911981070000&width=350&height=350&aspect=true',\n",
       " 'https://lavasconia.vtexassets.com/arquivos/ids/157914-350-350?v=637429911981070000&width=350&height=350&aspect=true',\n",
       " 'https://lavasconia.vtexassets.com/arquivos/ids/156906-350-350?v=637363871871730000&width=350&height=350&aspect=true',\n",
       " 'https://lavasconia.vtexassets.com/arquivos/ids/156906-350-350?v=637363871871730000&width=350&height=350&aspect=true',\n",
       " 'https://lavasconia.vtexassets.com/arquivos/ids/158441-350-350?v=637449515931400000&width=350&height=350&aspect=true',\n",
       " 'https://lavasconia.vtexassets.com/arquivos/ids/158441-350-350?v=637449515931400000&width=350&height=350&aspect=true',\n",
       " 'https://lavasconia.vtexassets.com/arquivos/ids/156876-350-350?v=637363871810400000&width=350&height=350&aspect=true',\n",
       " 'https://lavasconia.vtexassets.com/arquivos/ids/156876-350-350?v=637363871810400000&width=350&height=350&aspect=true',\n",
       " 'https://lavasconia.vtexassets.com/arquivos/ids/161740-350-350?v=637696959303200000&width=350&height=350&aspect=true',\n",
       " 'https://lavasconia.vtexassets.com/arquivos/ids/161740-350-350?v=637696959303200000&width=350&height=350&aspect=true',\n",
       " 'https://lavasconia.vtexassets.com/arquivos/ids/157918-350-350?v=637429912037030000&width=350&height=350&aspect=true',\n",
       " 'https://lavasconia.vtexassets.com/arquivos/ids/157918-350-350?v=637429912037030000&width=350&height=350&aspect=true',\n",
       " 'https://lavasconia.vtexassets.com/arquivos/ids/158439-350-350?v=637449512133930000&width=350&height=350&aspect=true',\n",
       " 'https://lavasconia.vtexassets.com/arquivos/ids/158439-350-350?v=637449512133930000&width=350&height=350&aspect=true',\n",
       " 'https://lavasconia.vtexassets.com/arquivos/ids/158438-350-350?v=637449505506830000&width=350&height=350&aspect=true',\n",
       " 'https://lavasconia.vtexassets.com/arquivos/ids/158438-350-350?v=637449505506830000&width=350&height=350&aspect=true']"
      ]
     },
     "execution_count": 10,
     "metadata": {},
     "output_type": "execute_result"
    }
   ],
   "source": [
    "lista_sopa_cuchillo = sopa_cuchillo.find_all('div', class_ ='vtex-product-summary-2-x-imageContainer')\n",
    "link_img_sopa_cuchillo = [x.find('img').get('src') for x in lista_sopa_cuchillo]\n",
    "link_img_sopa_cuchillo = [urljoin(url_raiz, i) for i in link_img_sopa_cuchillo]\n",
    "\n",
    "link_img_sopa_cuchillo"
   ]
  },
  {
   "cell_type": "code",
   "execution_count": 11,
   "id": "9794d7a0",
   "metadata": {},
   "outputs": [
    {
     "name": "stdout",
     "output_type": "stream",
     "text": [
      "Descargando... 1.jpg\n",
      "Descargando... 2.jpg\n",
      "Descargando... 3.jpg\n",
      "Descargando... 4.jpg\n",
      "Descargando... 5.jpg\n",
      "Descargando... 6.jpg\n",
      "Descargando... 7.jpg\n",
      "Descargando... 8.jpg\n",
      "Descargando... 9.jpg\n",
      "Descargando... 10.jpg\n",
      "Descargando... 11.jpg\n",
      "Descargando... 12.jpg\n",
      "Descargando... 13.jpg\n",
      "Descargando... 14.jpg\n",
      "Descargando... 15.jpg\n",
      "Descargando... 16.jpg\n",
      "# Descarga Terminada #\n"
     ]
    }
   ],
   "source": [
    "os.makedirs('cuchillos')\n",
    "os.chdir('cuchillos')\n",
    "\n",
    "id3=0\n",
    "for d3 in link_img_sopa_cuchillo:\n",
    "    id3+=1\n",
    "    name = str(id3)+'.jpg'\n",
    "    imagen = requests.get(d3).content\n",
    "    with open(name, 'wb') as handler:\n",
    "        print(\"Descargando... \" + name)\n",
    "        handler.write(imagen)\n",
    "print(\"# Descarga Terminada #\")\n",
    "os.chdir('..')"
   ]
  },
  {
   "cell_type": "code",
   "execution_count": null,
   "id": "a3651246",
   "metadata": {},
   "outputs": [],
   "source": []
  }
 ],
 "metadata": {
  "kernelspec": {
   "display_name": "Python 3 (ipykernel)",
   "language": "python",
   "name": "python3"
  },
  "language_info": {
   "codemirror_mode": {
    "name": "ipython",
    "version": 3
   },
   "file_extension": ".py",
   "mimetype": "text/x-python",
   "name": "python",
   "nbconvert_exporter": "python",
   "pygments_lexer": "ipython3",
   "version": "3.9.13"
  }
 },
 "nbformat": 4,
 "nbformat_minor": 5
}
